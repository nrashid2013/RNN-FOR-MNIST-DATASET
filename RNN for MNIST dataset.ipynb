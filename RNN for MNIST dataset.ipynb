{
 "cells": [
  {
   "cell_type": "code",
   "execution_count": 13,
   "metadata": {},
   "outputs": [],
   "source": [
    "import tensorflow as tf\n",
    "from tensorflow.keras.models import Sequential\n",
    "from tensorflow.keras.layers import Dense, Dropout, LSTM, CuDNNLSTM"
   ]
  },
  {
   "cell_type": "code",
   "execution_count": 14,
   "metadata": {},
   "outputs": [
    {
     "name": "stdout",
     "output_type": "stream",
     "text": [
      "(60000, 28, 28)\n",
      "(28, 28)\n"
     ]
    }
   ],
   "source": [
    "mnist = tf.keras.datasets.mnist  # mnist is a dataset of 28x28 images of handwritten digits and their labels\n",
    "(x_train, y_train),(x_test, y_test) = mnist.load_data()  # unpacks images to x_train/x_test and labels to y_train/y_test\n",
    "\n",
    "x_train = x_train/255.0\n",
    "x_test = x_test/255.0\n",
    "\n",
    "print(x_train.shape)\n",
    "print(x_train[0].shape)"
   ]
  },
  {
   "cell_type": "code",
   "execution_count": 15,
   "metadata": {},
   "outputs": [],
   "source": [
    "model = Sequential()\n",
    "# model.add(LSTM(128, input_shape=(x_train.shape[1:]), activation='relu', return_sequences=True))\n",
    "model.add(CuDNNLSTM(128, input_shape=(x_train.shape[1:]), return_sequences=True))\n",
    "model.add(Dropout(0.2))\n",
    "\n",
    "# model.add(LSTM(128, activation='relu'))\n",
    "model.add(CuDNNLSTM(128))\n",
    "model.add(Dropout(0.1))\n",
    "\n",
    "model.add(Dense(32, activation='relu'))\n",
    "model.add(Dropout(0.2))\n",
    "\n",
    "model.add(Dense(10, activation='softmax'))"
   ]
  },
  {
   "cell_type": "code",
   "execution_count": 16,
   "metadata": {},
   "outputs": [
    {
     "name": "stdout",
     "output_type": "stream",
     "text": [
      "Train on 60000 samples, validate on 10000 samples\n",
      "Epoch 1/10\n",
      "60000/60000 [==============================] - 19s 312us/sample - loss: 0.3846 - acc: 0.8841 - val_loss: 0.1162 - val_acc: 0.9650\n",
      "Epoch 2/10\n",
      "60000/60000 [==============================] - 18s 305us/sample - loss: 0.1220 - acc: 0.9675 - val_loss: 0.0680 - val_acc: 0.9798\n",
      "Epoch 3/10\n",
      "60000/60000 [==============================] - 18s 303us/sample - loss: 0.0819 - acc: 0.9782 - val_loss: 0.0718 - val_acc: 0.9795\n",
      "Epoch 4/10\n",
      "60000/60000 [==============================] - 18s 303us/sample - loss: 0.0668 - acc: 0.9824 - val_loss: 0.0559 - val_acc: 0.9838\n",
      "Epoch 5/10\n",
      "60000/60000 [==============================] - 18s 304us/sample - loss: 0.0568 - acc: 0.9845 - val_loss: 0.0657 - val_acc: 0.9823\n",
      "Epoch 6/10\n",
      "60000/60000 [==============================] - 18s 303us/sample - loss: 0.0458 - acc: 0.9876 - val_loss: 0.0668 - val_acc: 0.9826\n",
      "Epoch 7/10\n",
      "60000/60000 [==============================] - 18s 305us/sample - loss: 0.0393 - acc: 0.9897 - val_loss: 0.0462 - val_acc: 0.9883\n",
      "Epoch 8/10\n",
      "60000/60000 [==============================] - 18s 306us/sample - loss: 0.0353 - acc: 0.9902 - val_loss: 0.0389 - val_acc: 0.9897\n",
      "Epoch 9/10\n",
      "60000/60000 [==============================] - 18s 305us/sample - loss: 0.0340 - acc: 0.9911 - val_loss: 0.0460 - val_acc: 0.9873\n",
      "Epoch 10/10\n",
      "60000/60000 [==============================] - 18s 307us/sample - loss: 0.0293 - acc: 0.9922 - val_loss: 0.0460 - val_acc: 0.9871\n"
     ]
    },
    {
     "data": {
      "text/plain": [
       "<tensorflow.python.keras.callbacks.History at 0x22192257e10>"
      ]
     },
     "execution_count": 16,
     "metadata": {},
     "output_type": "execute_result"
    }
   ],
   "source": [
    "opt = tf.keras.optimizers.Adam(lr=0.001, decay=1e-6)\n",
    "\n",
    "# Compile model\n",
    "model.compile(\n",
    "    loss='sparse_categorical_crossentropy',\n",
    "    optimizer=opt,\n",
    "    metrics=['accuracy'],\n",
    ")\n",
    "\n",
    "model.fit(x_train,\n",
    "          y_train,\n",
    "          epochs=10,\n",
    "          validation_data=(x_test, y_test))"
   ]
  }
 ],
 "metadata": {
  "kernelspec": {
   "display_name": "gputest",
   "language": "python",
   "name": "gputest"
  },
  "language_info": {
   "codemirror_mode": {
    "name": "ipython",
    "version": 3
   },
   "file_extension": ".py",
   "mimetype": "text/x-python",
   "name": "python",
   "nbconvert_exporter": "python",
   "pygments_lexer": "ipython3",
   "version": "3.7.3"
  }
 },
 "nbformat": 4,
 "nbformat_minor": 2
}
